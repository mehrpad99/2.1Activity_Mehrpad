{
 "cells": [
  {
   "cell_type": "raw",
   "metadata": {},
   "source": [
    "---\n",
    "self-contained: true\n",
    "title : \"Activity2.1 - Titanic\" \n",
    "format:\n",
    "    html: \n",
    "        theme: sandstone\n",
    "---\n",
    "   "
   ]
  },
  {
   "cell_type": "markdown",
   "metadata": {
    "id": "QWpPySbzYEIV"
   },
   "source": [
    "# Titanic Wrangling\n",
    "\n",
    "In this practice activity you'll continue to work with the titanic dataset in ways that flex what you've learned about both data wrangling and data visualization."
   ]
  },
  {
   "cell_type": "code",
   "execution_count": 12,
   "metadata": {
    "id": "Nr6w8bVCf_NM"
   },
   "outputs": [],
   "source": [
    "# Import the titanic dataset here\n",
    "\n",
    "import numpy as np \n",
    "import pandas as pd\n",
    "\n",
    "data_dir = \"https://dlsun.github.io/pods/data/\"\n",
    "df_titanic = pd.read_csv(data_dir + \"titanic.csv\")"
   ]
  },
  {
   "cell_type": "markdown",
   "metadata": {
    "id": "9UgZD6VFYa96"
   },
   "source": [
    "## 1. Filter the data to include passengers only. Calculate the joint distribution (cross-tab) between a passenger's class and where they embarked."
   ]
  },
  {
   "cell_type": "code",
   "execution_count": 14,
   "metadata": {
    "id": "TBthOzDLgBif"
   },
   "outputs": [
    {
     "data": {
      "text/html": [
       "<div>\n",
       "<style scoped>\n",
       "    .dataframe tbody tr th:only-of-type {\n",
       "        vertical-align: middle;\n",
       "    }\n",
       "\n",
       "    .dataframe tbody tr th {\n",
       "        vertical-align: top;\n",
       "    }\n",
       "\n",
       "    .dataframe thead th {\n",
       "        text-align: right;\n",
       "    }\n",
       "</style>\n",
       "<table border=\"1\" class=\"dataframe\">\n",
       "  <thead>\n",
       "    <tr style=\"text-align: right;\">\n",
       "      <th>embarked</th>\n",
       "      <th>B</th>\n",
       "      <th>C</th>\n",
       "      <th>Q</th>\n",
       "      <th>S</th>\n",
       "    </tr>\n",
       "    <tr>\n",
       "      <th>class</th>\n",
       "      <th></th>\n",
       "      <th></th>\n",
       "      <th></th>\n",
       "      <th></th>\n",
       "    </tr>\n",
       "  </thead>\n",
       "  <tbody>\n",
       "    <tr>\n",
       "      <th>1st</th>\n",
       "      <td>3</td>\n",
       "      <td>143</td>\n",
       "      <td>3</td>\n",
       "      <td>175</td>\n",
       "    </tr>\n",
       "    <tr>\n",
       "      <th>2nd</th>\n",
       "      <td>6</td>\n",
       "      <td>26</td>\n",
       "      <td>7</td>\n",
       "      <td>245</td>\n",
       "    </tr>\n",
       "    <tr>\n",
       "      <th>3rd</th>\n",
       "      <td>0</td>\n",
       "      <td>102</td>\n",
       "      <td>113</td>\n",
       "      <td>494</td>\n",
       "    </tr>\n",
       "  </tbody>\n",
       "</table>\n",
       "</div>"
      ],
      "text/plain": [
       "embarked  B    C    Q    S\n",
       "class                     \n",
       "1st       3  143    3  175\n",
       "2nd       6   26    7  245\n",
       "3rd       0  102  113  494"
      ]
     },
     "execution_count": 14,
     "metadata": {},
     "output_type": "execute_result"
    }
   ],
   "source": [
    "# Code here\n",
    "passenger_classes = ['1st', '2nd', '3rd']\n",
    "\n",
    "df_passengers_only = df_titanic[df_titanic['class'].isin(passenger_classes)]\n",
    "\n",
    "cross_tab_passengers_only = pd.crosstab(df_passengers_only['class'], df_passengers_only['embarked'])\n",
    "\n",
    "cross_tab_passengers_only\n",
    "\n"
   ]
  },
  {
   "cell_type": "markdown",
   "metadata": {
    "id": "3CRaJLSyYm4d"
   },
   "source": [
    "## 2. Using the joint distribution that calculated above, calculate the following:\n",
    "\n",
    "* the conditional distribution of their class given where they embarked\n",
    "* the conditional distribution of where they embarked given their class\n",
    "\n",
    "Use the conditional distributions that you calculate to answer the following quesitons:\n",
    "\n",
    "* What proportion of 3rd class passengers embarked at Southampton?\n",
    "* What proportion of Southampton passengers were in 3rd class?"
   ]
  },
  {
   "cell_type": "code",
   "execution_count": 16,
   "metadata": {
    "id": "TfTGidLIv1k0"
   },
   "outputs": [
    {
     "data": {
      "text/plain": [
       "(embarked         B         C         Q         S\n",
       " class                                           \n",
       " 1st       0.333333  0.527675  0.024390  0.191466\n",
       " 2nd       0.666667  0.095941  0.056911  0.268053\n",
       " 3rd       0.000000  0.376384  0.918699  0.540481,\n",
       " embarked         B         C         Q         S\n",
       " class                                           \n",
       " 1st       0.009259  0.441358  0.009259  0.540123\n",
       " 2nd       0.021127  0.091549  0.024648  0.862676\n",
       " 3rd       0.000000  0.143865  0.159379  0.696756)"
      ]
     },
     "execution_count": 16,
     "metadata": {},
     "output_type": "execute_result"
    }
   ],
   "source": [
    "# Part 1 \n",
    "\n",
    "# Class Given Where They Embarked\n",
    "marginal_embarked_passengers = cross_tab_passengers_only.sum(axis=0)\n",
    "conditional_class_given_embarked_passengers = cross_tab_passengers_only.divide(marginal_embarked_passengers, axis=1)\n",
    "\n",
    "# Where They Embarked Given Their Class\n",
    "marginal_class_passengers = cross_tab_passengers_only.sum(axis=1)\n",
    "conditional_embarked_given_class_passengers = cross_tab_passengers_only.divide(marginal_class_passengers, axis=0)\n",
    "\n",
    "conditional_class_given_embarked_passengers, conditional_embarked_given_class_passengers"
   ]
  },
  {
   "cell_type": "markdown",
   "metadata": {},
   "source": [
    "The proportion of 3rd class passengers who embarked at Southampton is 0.696756 (or about 69.7%).\n",
    "\n",
    "The proportion of Southampton passengers who were in the 3rd class is 0.540481 (or about 54.0%)."
   ]
  },
  {
   "cell_type": "markdown",
   "metadata": {
    "id": "pGUQeeh1ZRfz"
   },
   "source": [
    "## 3. Make a visualization showing the distribution of a passenger's class, given where they embarked.\n",
    "\n",
    "Discuss the pros and cons of using this visualization versus the distributions you calculated before, to answer the previous questions."
   ]
  },
  {
   "cell_type": "code",
   "execution_count": 17,
   "metadata": {
    "id": "PZ18WKJWA-xZ"
   },
   "outputs": [
    {
     "data": {
      "image/png": "[encoded data removed]",
      "text/plain": [
       "<Figure size 1000x700 with 2 Axes>"
      ]
     },
     "metadata": {},
     "output_type": "display_data"
    }
   ],
   "source": [
    "import seaborn as sns\n",
    "import matplotlib.pyplot as plt\n",
    "\n",
    "# matplotlib figure\n",
    "plt.figure(figsize=(10, 7))\n",
    "\n",
    "# heatmap with the conditional distribution\n",
    "sns.heatmap(conditional_class_given_embarked_passengers, annot=True, cmap=\"YlGnBu\", fmt=\".2f\", linewidths=.5)\n",
    "\n",
    "plt.title('Conditional Distribution of Passenger Class Given Where They Embarked')\n",
    "plt.show()\n"
   ]
  },
  {
   "cell_type": "markdown",
   "metadata": {},
   "source": [
    "While the conditional distributions provide precise numbers and answers, a heatmap offers a visual and intuitive understanding of the distribution. Both have their places, and their combined use can give both a detailed and holistic understanding of the data."
   ]
  }
 ],
 "metadata": {
  "colab": {
   "provenance": []
  },
  "kernelspec": {
   "display_name": "Python 3 (ipykernel)",
   "language": "python",
   "name": "python3"
  },
  "language_info": {
   "codemirror_mode": {
    "name": "ipython",
    "version": 3
   },
   "file_extension": ".py",
   "mimetype": "text/x-python",
   "name": "python",
   "nbconvert_exporter": "python",
   "pygments_lexer": "ipython3",
   "version": "3.11.5"
  }
 },
 "nbformat": 4,
 "nbformat_minor": 1
}
